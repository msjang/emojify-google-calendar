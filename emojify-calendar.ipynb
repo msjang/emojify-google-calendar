{
 "cells": [
  {
   "cell_type": "code",
   "execution_count": 1,
   "id": "821b3b14-0213-4a92-80e4-fad1ceeff5b4",
   "metadata": {},
   "outputs": [],
   "source": [
    "import datetime\n",
    "import os.path\n",
    "from collections import OrderedDict\n",
    "\n",
    "from google.auth.transport.requests import Request\n",
    "from google.oauth2.credentials import Credentials\n",
    "from google_auth_oauthlib.flow import InstalledAppFlow\n",
    "from googleapiclient.discovery import build\n",
    "from googleapiclient.errors import HttpError"
   ]
  },
  {
   "cell_type": "code",
   "execution_count": 2,
   "id": "b1ff4a7b-4b99-4c9e-a3d2-a95dde0b8099",
   "metadata": {},
   "outputs": [],
   "source": [
    "SCOPES = ['https://www.googleapis.com/auth/calendar']"
   ]
  },
  {
   "cell_type": "code",
   "execution_count": 3,
   "id": "327c74b9-afb7-4d59-806e-f221a9d25788",
   "metadata": {},
   "outputs": [],
   "source": [
    "creds = None\n",
    "\n",
    "if os.path.exists('token.json'):\n",
    "    creds = Credentials.from_authorized_user_file('token.json', SCOPES)\n",
    "\n",
    "if not creds or not creds.valid:\n",
    "    if creds and creds.expired and creds.refresh_token:\n",
    "        creds.refresh(Request())\n",
    "    else:\n",
    "        flow = InstalledAppFlow.from_client_secrets_file(\n",
    "            'client_secrets.json', SCOPES)\n",
    "        creds = flow.run_local_server(port=0)\n",
    "    with open('token.json', 'w') as token:\n",
    "        token.write(creds.to_json())"
   ]
  },
  {
   "cell_type": "code",
   "execution_count": 4,
   "id": "e9d02c89-61ed-422a-8847-438f66d79a08",
   "metadata": {},
   "outputs": [],
   "source": [
    "def get_calendar_list(calendar_service):\n",
    "    calendar_list = calendar_service.calendarList().list().execute()\n",
    "    ret = calendar_list.get('items', [])\n",
    "    return [ {'id':x['id'],'summary':x['summary']} for x in ret ]\n",
    "\n",
    "def get_calendar_events(calendar_service, calendar_id, max_results=10):\n",
    "    now = datetime.datetime.utcnow().isoformat() + 'Z'\n",
    "    events_result = calendar_service.events().list(\n",
    "        calendarId=calendar_id,\n",
    "        timeMin=now,\n",
    "        maxResults=max_results,\n",
    "        singleEvents=True,\n",
    "        orderBy='startTime'\n",
    "    ).execute()\n",
    "    return events_result.get('items', [])\n",
    "\n",
    "def get_new_title(title):\n",
    "    global MAP\n",
    "    for a,b in MAP.items():\n",
    "        title = title.replace(a,b)\n",
    "    for a,b in MAP.items():\n",
    "        title = title.replace(\" \"+b,b)\n",
    "    return title\n",
    "\n",
    "def update_event_title(calendar_service, event_id, new_title):\n",
    "    event = calendar_service.events().get(calendarId='primary', eventId=event_id).execute()\n",
    "    event['summary'] = new_title\n",
    "    updated_event = calendar_service.events().update(calendarId='primary', eventId=event_id, body=event).execute()"
   ]
  },
  {
   "cell_type": "code",
   "execution_count": 5,
   "id": "828f828f-5197-461d-b47b-83d7eaf67a1a",
   "metadata": {},
   "outputs": [],
   "source": [
    "MAP = OrderedDict()"
   ]
  },
  {
   "cell_type": "code",
   "execution_count": 6,
   "id": "198847e9-f619-4e57-93eb-76ff3d258e37",
   "metadata": {},
   "outputs": [],
   "source": [
    "with open('map.txt') as f:\n",
    "    lines = f.readlines()\n",
    "    lines = [x.split() for x in lines]\n",
    "    for a,b in lines:\n",
    "        MAP[a] = b"
   ]
  },
  {
   "cell_type": "code",
   "execution_count": 7,
   "id": "b8f5dd50-69a3-4005-82ec-d74cf1b4745d",
   "metadata": {},
   "outputs": [],
   "source": [
    "service = build('calendar', 'v3', credentials=creds)"
   ]
  },
  {
   "cell_type": "code",
   "execution_count": 8,
   "id": "fc02a331-2f59-4de7-ab37-1c42bc1d54ad",
   "metadata": {},
   "outputs": [],
   "source": [
    "calendar_id = \"chaiosjang@gmail.com\""
   ]
  },
  {
   "cell_type": "code",
   "execution_count": 9,
   "id": "2f82a4be-6e4e-4806-a60d-9a14ded93775",
   "metadata": {},
   "outputs": [],
   "source": [
    "events = get_calendar_events(service, calendar_id, max_results=100)\n",
    "# print(events)\n",
    "events = [x for x in events if '#' in x['summary']]\n",
    "# print(events)"
   ]
  },
  {
   "cell_type": "code",
   "execution_count": 10,
   "id": "308a21d3-17ee-4925-870a-83fb086174ae",
   "metadata": {},
   "outputs": [
    {
     "name": "stdout",
     "output_type": "stream",
     "text": [
      "2023-08-20                 #회사 #해외 APAN56\n",
      ">>>>>>>>>>>>>>>>>>>>>>>>>> 🏢✈️ APAN56\n",
      "2023-08-26T10:00:00+09:00  #육아 텃밭 가꾸기\n",
      ">>>>>>>>>>>>>>>>>>>>>>>>>> 👶 텃밭 가꾸기\n",
      "2023-08-28T10:30:00+09:00  #회사 #티타임 Mazahir\n",
      ">>>>>>>>>>>>>>>>>>>>>>>>>> 🏢☕ Mazahir\n",
      "2023-09-12T08:30:00+09:00  #건강검진 을지대 (위내시경 제외)\n",
      ">>>>>>>>>>>>>>>>>>>>>>>>>> 🏥 을지대 (위내시경 제외)\n",
      "2023-10-11                 #회사 #출장 EOST Open Source Tech Day\n",
      ">>>>>>>>>>>>>>>>>>>>>>>>>> 🏢🚌 EOST Open Source Tech Day\n",
      "2023-11-04                 #건강검진 을지대 (위내시경)\n",
      ">>>>>>>>>>>>>>>>>>>>>>>>>> 🏥 을지대 (위내시경)\n"
     ]
    }
   ],
   "source": [
    "for i in range(0,len(events)):\n",
    "    e = events[i]\n",
    "    dt = e['start']\n",
    "    if   'date'     in dt: dt = dt['date']\n",
    "    elif 'dateTime' in dt: dt = dt['dateTime']\n",
    "    old_title = e['summary']\n",
    "    new_title = get_new_title(old_title)\n",
    "    e['summary'] = new_title\n",
    "    dt = \"{:<{}}\".format(dt, 25)\n",
    "    print(\"%s %s\" % (dt, old_title))\n",
    "    print(\"%s %s\" % (\">\"*26, new_title))\n",
    "    updated_event = service.events().update(calendarId=calendar_id, eventId=e['id'], body=e).execute()"
   ]
  },
  {
   "cell_type": "code",
   "execution_count": null,
   "id": "0fc45d4e-3232-43c4-9bcc-12923064172b",
   "metadata": {},
   "outputs": [],
   "source": []
  }
 ],
 "metadata": {
  "kernelspec": {
   "display_name": "Python 3 (ipykernel)",
   "language": "python",
   "name": "python3"
  },
  "language_info": {
   "codemirror_mode": {
    "name": "ipython",
    "version": 3
   },
   "file_extension": ".py",
   "mimetype": "text/x-python",
   "name": "python",
   "nbconvert_exporter": "python",
   "pygments_lexer": "ipython3",
   "version": "3.11.3"
  }
 },
 "nbformat": 4,
 "nbformat_minor": 5
}
